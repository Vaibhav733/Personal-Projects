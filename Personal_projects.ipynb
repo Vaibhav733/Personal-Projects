{
  "nbformat": 4,
  "nbformat_minor": 0,
  "metadata": {
    "colab": {
      "name": "Personal_projects.ipynb",
      "provenance": [],
      "mount_file_id": "1oVVd3fFHz1CJjoxhd8RiwHDdTAyRkv1Y",
      "authorship_tag": "ABX9TyNU62EFk+eUE+ui7/q6zKyn",
      "include_colab_link": true
    },
    "kernelspec": {
      "name": "python3",
      "display_name": "Python 3"
    },
    "language_info": {
      "name": "python"
    }
  },
  "cells": [
    {
      "cell_type": "markdown",
      "metadata": {
        "id": "view-in-github",
        "colab_type": "text"
      },
      "source": [
        "<a href=\"https://colab.research.google.com/github/Vaibhav733/Personal-Projects/blob/personal/Personal_projects.ipynb\" target=\"_parent\"><img src=\"https://colab.research.google.com/assets/colab-badge.svg\" alt=\"Open In Colab\"/></a>"
      ]
    },
    {
      "cell_type": "code",
      "execution_count": null,
      "metadata": {
        "id": "x_EzzCCkylxu"
      },
      "outputs": [],
      "source": [
        "# Sys Module\n"
      ]
    },
    {
      "cell_type": "markdown",
      "source": [
        "**Image Compression K-means**"
      ],
      "metadata": {
        "id": "yfPza2lc_fTm"
      }
    },
    {
      "cell_type": "code",
      "source": [
        "from skimage import io\n",
        "from sklearn.cluster import KMeans\n",
        "import numpy as np\n",
        "\n",
        "# reading an image\n",
        "image = io.imread('/content/drive/MyDrive/Colab Notebooks/image_sample/326kb.jpeg')\n",
        "\n",
        "# preprocessing\n",
        "rows, cols = image.shape[0], image.shape[1]\n",
        "image = image.reshape(rows * cols, 3)\n",
        "\n",
        "# Modelling\n",
        "Kmeans = KMeans(n_clusters = 6)\n",
        "Kmeans.fit(image)\n",
        "\n",
        "# getting centers and labels\n",
        "centers = np.asarray(Kmeans.cluster_centers_, dtype=np.uint8)\n",
        "labels = np.asarray(Kmeans.labels_, dtype = np.uint8)\n",
        "labels = np.reshape(labels, (rows, cols))\n",
        "labels = np.reshape(labels, (rows, cols))\n",
        "\n",
        "# reconstructing the image\n",
        "newImage = np.zeros((rows, cols, 3), dtype=np.uint8)\n",
        "for i in range(rows):\n",
        "    for j in range(cols):\n",
        "            # assinging every pixel the rgb color of their label's center\n",
        "            newImage[i, j, :] = centers[labels[i, j], :]\n",
        "\n",
        "io.imsave('/content/drive/MyDrive/Colab Notebooks/image_sample/new326kb.png' + '-compressed.png', newImage)"
      ],
      "metadata": {
        "id": "VTw1L-ZSHC8Y"
      },
      "execution_count": 18,
      "outputs": []
    },
    {
      "cell_type": "code",
      "source": [
        ""
      ],
      "metadata": {
        "id": "Ur3qGRw5LzGk"
      },
      "execution_count": null,
      "outputs": []
    }
  ]
}